{
 "cells": [
  {
   "cell_type": "code",
   "execution_count": 3,
   "id": "0205ed27-6550-4700-a477-a89b9ccde5bd",
   "metadata": {},
   "outputs": [],
   "source": [
    "import numpy as np\n",
    "import pandas as pd\n",
    "import datetime"
   ]
  },
  {
   "cell_type": "markdown",
   "id": "7afb032e-e72e-4c6a-96c8-6f886fb0ba48",
   "metadata": {},
   "source": [
    "while importing data in mysql workbench we found that only few rows are being imported the reason behind this is **unclean data**, so we'll clean the data now "
   ]
  },
  {
   "cell_type": "code",
   "execution_count": 3,
   "id": "c4800456-a5a0-4211-8870-c09df8ac9303",
   "metadata": {},
   "outputs": [
    {
     "data": {
      "text/plain": [
       "Unnamed: 0           0\n",
       "App                  0\n",
       "Category             0\n",
       "Rating            1474\n",
       "Reviews              0\n",
       "Size                 0\n",
       "Installs             0\n",
       "Type                 1\n",
       "Price                0\n",
       "Content Rating       1\n",
       "Genres               0\n",
       "Last Updated         0\n",
       "Current Ver          8\n",
       "Android Ver          3\n",
       "dtype: int64"
      ]
     },
     "execution_count": 3,
     "metadata": {},
     "output_type": "execute_result"
    }
   ],
   "source": [
    "df = pd.read_csv(r\"C:\\Users\\LENOVO\\OneDrive\\Desktop\\ds\\datasets\\googleplaystore(impure).csv\")\n",
    "df.isnull().sum()"
   ]
  },
  {
   "cell_type": "code",
   "execution_count": 4,
   "id": "1fda9b1d-f283-4e7e-9dd0-510917f38387",
   "metadata": {},
   "outputs": [],
   "source": [
    "df.dropna(inplace=True)"
   ]
  },
  {
   "cell_type": "code",
   "execution_count": 5,
   "id": "dd0035e3-4706-46c7-8fd1-0fc218484266",
   "metadata": {},
   "outputs": [],
   "source": [
    "df.drop(columns = 'Unnamed: 0', inplace=True)"
   ]
  },
  {
   "cell_type": "code",
   "execution_count": 6,
   "id": "1390d595-7e08-4165-8e6e-2f14e341e5a3",
   "metadata": {},
   "outputs": [
    {
     "data": {
      "text/plain": [
       "App               0\n",
       "Category          0\n",
       "Rating            0\n",
       "Reviews           0\n",
       "Size              0\n",
       "Installs          0\n",
       "Type              0\n",
       "Price             0\n",
       "Content Rating    0\n",
       "Genres            0\n",
       "Last Updated      0\n",
       "Current Ver       0\n",
       "Android Ver       0\n",
       "dtype: int64"
      ]
     },
     "execution_count": 6,
     "metadata": {},
     "output_type": "execute_result"
    }
   ],
   "source": [
    "df.isnull().sum()"
   ]
  },
  {
   "cell_type": "code",
   "execution_count": 8,
   "id": "a3746870-ce5b-4ffb-a4ac-f35b95099aab",
   "metadata": {},
   "outputs": [
    {
     "data": {
      "text/html": [
       "<div>\n",
       "<style scoped>\n",
       "    .dataframe tbody tr th:only-of-type {\n",
       "        vertical-align: middle;\n",
       "    }\n",
       "\n",
       "    .dataframe tbody tr th {\n",
       "        vertical-align: top;\n",
       "    }\n",
       "\n",
       "    .dataframe thead th {\n",
       "        text-align: right;\n",
       "    }\n",
       "</style>\n",
       "<table border=\"1\" class=\"dataframe\">\n",
       "  <thead>\n",
       "    <tr style=\"text-align: right;\">\n",
       "      <th></th>\n",
       "      <th>App</th>\n",
       "      <th>Category</th>\n",
       "      <th>Rating</th>\n",
       "      <th>Reviews</th>\n",
       "      <th>Size</th>\n",
       "      <th>Installs</th>\n",
       "      <th>Type</th>\n",
       "      <th>Price</th>\n",
       "      <th>Content Rating</th>\n",
       "      <th>Genres</th>\n",
       "      <th>Last Updated</th>\n",
       "      <th>Current Ver</th>\n",
       "      <th>Android Ver</th>\n",
       "    </tr>\n",
       "  </thead>\n",
       "  <tbody>\n",
       "    <tr>\n",
       "      <th>7708</th>\n",
       "      <td>Calcy IV</td>\n",
       "      <td>TOOLS</td>\n",
       "      <td>4.8</td>\n",
       "      <td>36557</td>\n",
       "      <td>14M</td>\n",
       "      <td>1,000,000+</td>\n",
       "      <td>Free</td>\n",
       "      <td>0</td>\n",
       "      <td>Everyone</td>\n",
       "      <td>Tools</td>\n",
       "      <td>3-Aug-18</td>\n",
       "      <td>2.51f</td>\n",
       "      <td>5.0 and up</td>\n",
       "    </tr>\n",
       "    <tr>\n",
       "      <th>4974</th>\n",
       "      <td>Brave Browser: Fast AdBlocker</td>\n",
       "      <td>COMMUNICATION</td>\n",
       "      <td>4.3</td>\n",
       "      <td>40241</td>\n",
       "      <td>Varies with device</td>\n",
       "      <td>5,000,000+</td>\n",
       "      <td>Free</td>\n",
       "      <td>0</td>\n",
       "      <td>Everyone</td>\n",
       "      <td>Communication</td>\n",
       "      <td>30-Jun-18</td>\n",
       "      <td>1.0.52</td>\n",
       "      <td>4.1 and up</td>\n",
       "    </tr>\n",
       "    <tr>\n",
       "      <th>1501</th>\n",
       "      <td>RadPad: Apartment Finder App</td>\n",
       "      <td>HOUSE_AND_HOME</td>\n",
       "      <td>4.4</td>\n",
       "      <td>6896</td>\n",
       "      <td>35M</td>\n",
       "      <td>500,000+</td>\n",
       "      <td>Free</td>\n",
       "      <td>0</td>\n",
       "      <td>Everyone</td>\n",
       "      <td>House &amp; Home</td>\n",
       "      <td>30-Aug-17</td>\n",
       "      <td>1.7.3</td>\n",
       "      <td>4.1 and up</td>\n",
       "    </tr>\n",
       "  </tbody>\n",
       "</table>\n",
       "</div>"
      ],
      "text/plain": [
       "                                App        Category  Rating Reviews  \\\n",
       "7708                       Calcy IV           TOOLS     4.8   36557   \n",
       "4974  Brave Browser: Fast AdBlocker   COMMUNICATION     4.3   40241   \n",
       "1501   RadPad: Apartment Finder App  HOUSE_AND_HOME     4.4    6896   \n",
       "\n",
       "                    Size    Installs  Type Price Content Rating  \\\n",
       "7708                 14M  1,000,000+  Free     0       Everyone   \n",
       "4974  Varies with device  5,000,000+  Free     0       Everyone   \n",
       "1501                 35M    500,000+  Free     0       Everyone   \n",
       "\n",
       "             Genres Last Updated Current Ver Android Ver  \n",
       "7708          Tools     3-Aug-18       2.51f  5.0 and up  \n",
       "4974  Communication    30-Jun-18      1.0.52  4.1 and up  \n",
       "1501   House & Home    30-Aug-17       1.7.3  4.1 and up  "
      ]
     },
     "execution_count": 8,
     "metadata": {},
     "output_type": "execute_result"
    }
   ],
   "source": [
    "df.sample(3)"
   ]
  },
  {
   "cell_type": "code",
   "execution_count": 19,
   "id": "2244ed8a-f3bf-4c83-8f3c-651a6efb5ee2",
   "metadata": {},
   "outputs": [],
   "source": [
    "df['Last Updated'] = df['Last Updated'].dt.strftime('%Y-%m-%d')"
   ]
  },
  {
   "cell_type": "code",
   "execution_count": 21,
   "id": "1991ce01-adcc-40b3-a377-5a2cb7036d20",
   "metadata": {},
   "outputs": [],
   "source": [
    "df['Last Updated'] = pd.to_datetime(df['Last Updated'], errors='coerce')"
   ]
  },
  {
   "cell_type": "code",
   "execution_count": 23,
   "id": "de7c4ce0-b4ab-469c-8cba-5d3e95c410c7",
   "metadata": {},
   "outputs": [],
   "source": [
    "df['Installs'] = df['Installs'].str.replace('+','')\n",
    "df['Installs'] = df['Installs'].str.replace(',','')"
   ]
  },
  {
   "cell_type": "code",
   "execution_count": 26,
   "id": "de657fd3-0004-4982-b67a-5e2a801396a1",
   "metadata": {},
   "outputs": [],
   "source": [
    "df['Installs']=df['Installs'].astype(int)"
   ]
  },
  {
   "cell_type": "code",
   "execution_count": 28,
   "id": "aaee9f8c-3c4c-494f-8bc4-3312b4bd06d9",
   "metadata": {},
   "outputs": [],
   "source": [
    "df.drop(df[df['Reviews']=='3.0M'].index,inplace=True)"
   ]
  },
  {
   "cell_type": "code",
   "execution_count": 30,
   "id": "c0c5b337-14b4-42b2-b10b-11108ed99b8c",
   "metadata": {},
   "outputs": [],
   "source": [
    "df['Reviews']= df['Reviews'].astype(int)"
   ]
  },
  {
   "cell_type": "code",
   "execution_count": 32,
   "id": "bbf191df-afc3-40c6-8d20-b669446506a1",
   "metadata": {},
   "outputs": [],
   "source": [
    "df['Price']=df['Price'].str.replace('$','')\n",
    "df['Price']= df['Price'].astype(float)"
   ]
  },
  {
   "cell_type": "code",
   "execution_count": 33,
   "id": "36d29ea5-1fea-4e6c-828d-95816b7c3862",
   "metadata": {},
   "outputs": [
    {
     "data": {
      "text/html": [
       "<div>\n",
       "<style scoped>\n",
       "    .dataframe tbody tr th:only-of-type {\n",
       "        vertical-align: middle;\n",
       "    }\n",
       "\n",
       "    .dataframe tbody tr th {\n",
       "        vertical-align: top;\n",
       "    }\n",
       "\n",
       "    .dataframe thead th {\n",
       "        text-align: right;\n",
       "    }\n",
       "</style>\n",
       "<table border=\"1\" class=\"dataframe\">\n",
       "  <thead>\n",
       "    <tr style=\"text-align: right;\">\n",
       "      <th></th>\n",
       "      <th>App</th>\n",
       "      <th>Category</th>\n",
       "      <th>Rating</th>\n",
       "      <th>Reviews</th>\n",
       "      <th>Size</th>\n",
       "      <th>Installs</th>\n",
       "      <th>Type</th>\n",
       "      <th>Price</th>\n",
       "      <th>Content Rating</th>\n",
       "      <th>Genres</th>\n",
       "      <th>Last Updated</th>\n",
       "      <th>Current Ver</th>\n",
       "      <th>Android Ver</th>\n",
       "    </tr>\n",
       "  </thead>\n",
       "  <tbody>\n",
       "    <tr>\n",
       "      <th>4427</th>\n",
       "      <td>Stand O’Food® (Full)</td>\n",
       "      <td>FAMILY</td>\n",
       "      <td>4.4</td>\n",
       "      <td>925</td>\n",
       "      <td>40M</td>\n",
       "      <td>10000</td>\n",
       "      <td>Paid</td>\n",
       "      <td>1.99</td>\n",
       "      <td>Everyone</td>\n",
       "      <td>Casual</td>\n",
       "      <td>2014-12-26</td>\n",
       "      <td>1.5</td>\n",
       "      <td>2.3.3 and up</td>\n",
       "    </tr>\n",
       "    <tr>\n",
       "      <th>7000</th>\n",
       "      <td>PixPanda - Color by Number Pixel Art Coloring ...</td>\n",
       "      <td>FAMILY</td>\n",
       "      <td>4.9</td>\n",
       "      <td>55723</td>\n",
       "      <td>14M</td>\n",
       "      <td>1000000</td>\n",
       "      <td>Free</td>\n",
       "      <td>0.00</td>\n",
       "      <td>Everyone</td>\n",
       "      <td>Entertainment</td>\n",
       "      <td>2018-06-04</td>\n",
       "      <td>3.3</td>\n",
       "      <td>4.0.3 and up</td>\n",
       "    </tr>\n",
       "    <tr>\n",
       "      <th>7248</th>\n",
       "      <td>CF Invest</td>\n",
       "      <td>FINANCE</td>\n",
       "      <td>4.4</td>\n",
       "      <td>11</td>\n",
       "      <td>4.6M</td>\n",
       "      <td>500</td>\n",
       "      <td>Free</td>\n",
       "      <td>0.00</td>\n",
       "      <td>Everyone</td>\n",
       "      <td>Finance</td>\n",
       "      <td>2018-02-02</td>\n",
       "      <td>1.2</td>\n",
       "      <td>4.1 and up</td>\n",
       "    </tr>\n",
       "  </tbody>\n",
       "</table>\n",
       "</div>"
      ],
      "text/plain": [
       "                                                    App Category  Rating  \\\n",
       "4427                               Stand O’Food® (Full)   FAMILY     4.4   \n",
       "7000  PixPanda - Color by Number Pixel Art Coloring ...   FAMILY     4.9   \n",
       "7248                                          CF Invest  FINANCE     4.4   \n",
       "\n",
       "      Reviews  Size  Installs  Type  Price Content Rating         Genres  \\\n",
       "4427      925   40M     10000  Paid   1.99       Everyone         Casual   \n",
       "7000    55723   14M   1000000  Free   0.00       Everyone  Entertainment   \n",
       "7248       11  4.6M       500  Free   0.00       Everyone        Finance   \n",
       "\n",
       "     Last Updated Current Ver   Android Ver  \n",
       "4427   2014-12-26         1.5  2.3.3 and up  \n",
       "7000   2018-06-04         3.3  4.0.3 and up  \n",
       "7248   2018-02-02         1.2    4.1 and up  "
      ]
     },
     "execution_count": 33,
     "metadata": {},
     "output_type": "execute_result"
    }
   ],
   "source": [
    "df.sample(3)"
   ]
  },
  {
   "cell_type": "code",
   "execution_count": 34,
   "id": "8760014d-847f-456e-ac72-76695e9e365a",
   "metadata": {},
   "outputs": [],
   "source": [
    "df.to_csv('playstore.csv', index=False)"
   ]
  },
  {
   "cell_type": "code",
   "execution_count": 9,
   "id": "b45f397b-7d80-4121-a9e5-c8b1df383f2f",
   "metadata": {},
   "outputs": [
    {
     "name": "stdout",
     "output_type": "stream",
     "text": [
      "File converted successfully!\n"
     ]
    }
   ],
   "source": [
    "import pandas as pd\n",
    "\n",
    "# Specify the engine for .xls files\n",
    "xls_file = r\"C:\\Users\\LENOVO\\OneDrive\\Desktop\\ds\\datasets\\playstore_cleaned.xls\"\n",
    "df = pd.read_csv(xls_file)\n",
    "\n",
    "# Save the DataFrame to a .csv file\n",
    "csv_file = 'playstore.csv'\n",
    "df.to_csv(csv_file, index=False)\n",
    "\n",
    "print(\"File converted successfully!\")\n"
   ]
  },
  {
   "cell_type": "code",
   "execution_count": 7,
   "id": "a84e7bdd-5a55-4222-88b8-f344b8ef74de",
   "metadata": {},
   "outputs": [
    {
     "name": "stdout",
     "output_type": "stream",
     "text": [
      "Collecting xlrd\n",
      "  Downloading xlrd-2.0.1-py2.py3-none-any.whl.metadata (3.4 kB)\n",
      "Downloading xlrd-2.0.1-py2.py3-none-any.whl (96 kB)\n",
      "Installing collected packages: xlrd\n",
      "Successfully installed xlrd-2.0.1\n"
     ]
    }
   ],
   "source": [
    "!pip install xlrd\n"
   ]
  },
  {
   "cell_type": "code",
   "execution_count": null,
   "id": "6511382f-721d-419f-be17-62f5e89690f0",
   "metadata": {},
   "outputs": [],
   "source": []
  }
 ],
 "metadata": {
  "kernelspec": {
   "display_name": "Python 3 (ipykernel)",
   "language": "python",
   "name": "python3"
  },
  "language_info": {
   "codemirror_mode": {
    "name": "ipython",
    "version": 3
   },
   "file_extension": ".py",
   "mimetype": "text/x-python",
   "name": "python",
   "nbconvert_exporter": "python",
   "pygments_lexer": "ipython3",
   "version": "3.12.4"
  }
 },
 "nbformat": 4,
 "nbformat_minor": 5
}
